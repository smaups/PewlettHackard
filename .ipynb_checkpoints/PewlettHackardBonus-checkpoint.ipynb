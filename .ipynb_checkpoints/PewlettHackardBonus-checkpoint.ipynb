{
 "cells": [
  {
   "cell_type": "code",
   "execution_count": 8,
   "metadata": {},
   "outputs": [],
   "source": [
    "## Import Dependencies \n",
    "from sqlalchemy import create_engine\n",
    "import psycopg2\n",
    "import pandas as pd\n",
    "import matplotlib.pyplot as plt\n",
    "from matplotlib import cm\n"
   ]
  },
  {
   "cell_type": "code",
   "execution_count": 2,
   "metadata": {},
   "outputs": [],
   "source": [
    "## name variables\n",
    "POSTGRES_address= '127.0.0.1'\n",
    "POSTGRES_port = '5432'\n",
    "POSTGRES_username = 'postgres'\n",
    "POSTGRES_password = 'Password'\n",
    "POSTGRES_dbname = 'Homework_SQL'\n",
    "\n",
    "## necessary PostgreSQL login information\n",
    "postgres_str = ('postgresql://{username}:{password}@{ipaddress}:{port}/{dbname}'\n",
    "                 .format(username=POSTGRES_username, password=POSTGRES_password,\n",
    "                        ipaddress=POSTGRES_address, port=POSTGRES_port,\n",
    "                        dbname=POSTGRES_dbname))\n",
    "## Calls on PostgreSQL for database\n",
    "cnx = create_engine(postgres_str)"
   ]
  },
  {
   "cell_type": "code",
   "execution_count": 3,
   "metadata": {},
   "outputs": [],
   "source": [
    "#create dataframes \n",
    "salaries_df = pd.read_sql_query('''SELECT emp_no, salary FROM Salaries''', cnx)\n",
    "titles_df = pd.read_sql_query('SELECT emp_no, title FROM Titles', cnx)"
   ]
  },
  {
   "cell_type": "code",
   "execution_count": 4,
   "metadata": {},
   "outputs": [
    {
     "data": {
      "text/html": [
       "<div>\n",
       "<style scoped>\n",
       "    .dataframe tbody tr th:only-of-type {\n",
       "        vertical-align: middle;\n",
       "    }\n",
       "\n",
       "    .dataframe tbody tr th {\n",
       "        vertical-align: top;\n",
       "    }\n",
       "\n",
       "    .dataframe thead th {\n",
       "        text-align: right;\n",
       "    }\n",
       "</style>\n",
       "<table border=\"1\" class=\"dataframe\">\n",
       "  <thead>\n",
       "    <tr style=\"text-align: right;\">\n",
       "      <th></th>\n",
       "      <th>emp_no</th>\n",
       "      <th>salary</th>\n",
       "      <th>title</th>\n",
       "    </tr>\n",
       "  </thead>\n",
       "  <tbody>\n",
       "    <tr>\n",
       "      <th>0</th>\n",
       "      <td>10001</td>\n",
       "      <td>60117</td>\n",
       "      <td>Senior Engineer</td>\n",
       "    </tr>\n",
       "    <tr>\n",
       "      <th>1</th>\n",
       "      <td>10002</td>\n",
       "      <td>65828</td>\n",
       "      <td>Staff</td>\n",
       "    </tr>\n",
       "    <tr>\n",
       "      <th>2</th>\n",
       "      <td>10003</td>\n",
       "      <td>40006</td>\n",
       "      <td>Senior Engineer</td>\n",
       "    </tr>\n",
       "    <tr>\n",
       "      <th>3</th>\n",
       "      <td>10004</td>\n",
       "      <td>40054</td>\n",
       "      <td>Engineer</td>\n",
       "    </tr>\n",
       "    <tr>\n",
       "      <th>4</th>\n",
       "      <td>10004</td>\n",
       "      <td>40054</td>\n",
       "      <td>Senior Engineer</td>\n",
       "    </tr>\n",
       "  </tbody>\n",
       "</table>\n",
       "</div>"
      ],
      "text/plain": [
       "   emp_no  salary            title\n",
       "0   10001   60117  Senior Engineer\n",
       "1   10002   65828            Staff\n",
       "2   10003   40006  Senior Engineer\n",
       "3   10004   40054         Engineer\n",
       "4   10004   40054  Senior Engineer"
      ]
     },
     "execution_count": 4,
     "metadata": {},
     "output_type": "execute_result"
    }
   ],
   "source": [
    "#merge dataframes\n",
    "merge_df= pd.merge(salaries_df, titles_df, how='inner', on='emp_no')\n",
    "merge_df.head()"
   ]
  },
  {
   "cell_type": "code",
   "execution_count": 5,
   "metadata": {},
   "outputs": [
    {
     "data": {
      "text/plain": [
       "title\n",
       "Assistant Engineer    48493.204786\n",
       "Engineer              48539.781423\n",
       "Manager               51531.041667\n",
       "Senior Engineer       48506.751806\n",
       "Senior Staff          58503.286614\n",
       "Staff                 58465.271904\n",
       "Technique Leader      48580.505772\n",
       "Name: salary, dtype: float64"
      ]
     },
     "execution_count": 5,
     "metadata": {},
     "output_type": "execute_result"
    }
   ],
   "source": [
    "##AVERAGE SALARY BY TITLE\n",
    "group_df = merge_df.groupby(['title']).mean()['salary']\n",
    "group_df"
   ]
  },
  {
   "cell_type": "code",
   "execution_count": 6,
   "metadata": {},
   "outputs": [
    {
     "data": {
      "image/png": "[encoded data removed]",
      "text/plain": [
       "<Figure size 432x288 with 1 Axes>"
      ]
     },
     "metadata": {
      "needs_background": "light"
     },
     "output_type": "display_data"
    }
   ],
   "source": [
    "##Plot the Data\n",
    "color = cm.hsv(group_df / ( float(max(group_df))))\n",
    "plt.clf()\n",
    "group_df.plot.bar(color = color)\n",
    "plt.title(\"Average Salary for Each Title\")\n",
    "plt.xlabel(\"Title\")\n",
    "plt.ylabel(\"Average Salary\")\n",
    "plt.xticks(rotation=45)\n",
    "plt.grid()\n",
    "\n"
   ]
  },
  {
   "cell_type": "markdown",
   "metadata": {},
   "source": [
    "# Data Engineering\n",
    "\n",
    "### Before analyzing the CVSs from Pewlett Hacker a database must be created in PostgreSQL to house the data.  \n",
    "\n",
    "### After creating the database a schema is needed to create the tables. To make a schema run the Query Tool. Here the tables are created. First create the Employees and Departments table as they hold the primary keys (Employee Number and Department Number). Of the remaining four tables, two, Department Employees and Department Managers, are junction tables. In these tables Employee Number and Department number are used individually as Foreign Keys and grouped together as a primary key. \n",
    "\n",
    "### Once the tables are complete use [QuickDBD](https://app.quickdatabasediagrams.com/#/) to create a map of the data. Selecting the \"Import\" tab at the top of the page, select the Schema SQL file. QuickDBD then produces a visually friendly map of the relationships between the tables.\n",
    "\n",
    "### After creating the Schema a series of queries are required to analyze the data. Using various clauses like WHERE, SELECT, IN and ORDER BY we are able to anser the set of questions asked by joining the data on the Keys as described above. \n",
    "\n",
    "### To import the Schema from PostgreSQL to a Python editor, such as Jupyter Notebook, [pip install Sqlalchemy](https://docs.sqlalchemy.org/en/13/intro.html#installation) and [psychopg2](http://initd.org/psycopg/docs/install.html#prerequisites). The IP address, port, username, password, and database Name are all requriments to [converting the data from PostgreSQL](https://blog.panoply.io/connecting-jupyter-notebook-with-postgresql-for-python-data-analysis). Once the data is in your editor use python to create dataframes. From those dataframes, matplotlib can is used to graph the data.\n"
   ]
  },
  {
   "cell_type": "code",
   "execution_count": null,
   "metadata": {},
   "outputs": [],
   "source": []
  }
 ],
 "metadata": {
  "kernelspec": {
   "display_name": "Python 3",
   "language": "python",
   "name": "python3"
  },
  "language_info": {
   "codemirror_mode": {
    "name": "ipython",
    "version": 3
   },
   "file_extension": ".py",
   "mimetype": "text/x-python",
   "name": "python",
   "nbconvert_exporter": "python",
   "pygments_lexer": "ipython3",
   "version": "3.6.8"
  }
 },
 "nbformat": 4,
 "nbformat_minor": 2
}
